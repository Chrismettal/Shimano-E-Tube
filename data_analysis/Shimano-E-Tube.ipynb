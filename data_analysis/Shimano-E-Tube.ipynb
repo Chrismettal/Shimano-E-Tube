{
 "cells": [
  {
   "cell_type": "markdown",
   "metadata": {},
   "source": [
    "# Shimano E-Tube Reversing\n",
    "\n",
    "- Create virtual python environment in repo root and switch to it\n",
    "- Run `pip install --upgrade plotly pandas nbformat` in your venv"
   ]
  },
  {
   "cell_type": "code",
   "execution_count": null,
   "metadata": {},
   "outputs": [],
   "source": [
    "# Init\n",
    "\n",
    "import plotly.express as px\n",
    "import pandas as pd\n",
    "import os\n",
    "import math\n"
   ]
  },
  {
   "cell_type": "markdown",
   "metadata": {},
   "source": [
    "# Load and plot all scope files found at your favorite destination\n",
    "\n",
    "The stuff in `/2023-12-31` is the first grabs I did, which means the data is either not interesting or the resolution is too low for any evaluation\n",
    "\n",
    "`SingleIdleBurst.csv` is a repeating pattern that shows up in between practically all other communication in 1ms intervals, as long as the bike is on. There are 500ms pauses between 500ms of SingleIdleBursts."
   ]
  },
  {
   "cell_type": "code",
   "execution_count": null,
   "metadata": {},
   "outputs": [],
   "source": [
    "# Folder to check in /data/scopes/\n",
    "relPath = '2023-12-31'\n",
    "\n",
    "# Find data folder\n",
    "notebookFolder      = (os.path.abspath(''))\n",
    "repoRoot            = os.path.dirname(notebookFolder)\n",
    "intermediatePath    = os.path.join(repoRoot, 'data')\n",
    "intermediatePath    = os.path.join(intermediatePath, 'scopes')\n",
    "sourceFolder        = os.path.join(intermediatePath, relPath)\n",
    "\n",
    "for file in os.listdir(sourceFolder):\n",
    "    # Read in csv\n",
    "    df = pd.read_csv(os.path.join(sourceFolder, file))\n",
    "    \n",
    "    # Drop garbage data at beginning\n",
    "    df = df.drop(index=[0,1])\n",
    "\n",
    "    # Convert scientific notation to float\n",
    "    df['time']  = df['x-axis'].astype(float)\n",
    "    df['voltage'] = df['1'].astype(float)\n",
    "    df = df.drop(columns=['x-axis', '1'])\n",
    "\n",
    "    # Plot dataframe\n",
    "    fig = px.line(df, x = 'time', y = 'voltage', title=file, template='plotly_dark')\n",
    "    fig.show()"
   ]
  },
  {
   "cell_type": "markdown",
   "metadata": {},
   "source": [
    "# Start of a block of idle pulses"
   ]
  },
  {
   "cell_type": "code",
   "execution_count": null,
   "metadata": {},
   "outputs": [],
   "source": [
    "# File to check in /data/scopes/\n",
    "relPath = '2024-01-01_IdleStartHighResolution/scope_3.csv'\n",
    "\n",
    "# Find data folder\n",
    "notebookFolder      = (os.path.abspath(''))\n",
    "repoRoot            = os.path.dirname(notebookFolder)\n",
    "intermediatePath    = os.path.join(repoRoot, 'data')\n",
    "intermediatePath    = os.path.join(intermediatePath, 'scopes')\n",
    "sourceFile          = os.path.join(intermediatePath, relPath)\n",
    "\n",
    "# Read in burst csv\n",
    "df = pd.read_csv(sourceFile)\n",
    "\n",
    "# Drop garbage data at beginning\n",
    "df = df.drop(index=[0,1])\n",
    "\n",
    "# Convert scientific notation to float\n",
    "df['time']  = df['x0000']\n",
    "df['voltage'] = df['y0000']\n",
    "df = df.drop(columns=['x0000', 'y0000'])\n",
    "\n",
    "# Plot dataframe\n",
    "fig = px.line(df, x = 'time', y = 'voltage', title='Idle Start High Resolution', template='plotly_dark')\n",
    "fig.show()"
   ]
  }
 ],
 "metadata": {
  "kernelspec": {
   "display_name": "Python 3",
   "language": "python",
   "name": "python3"
  },
  "language_info": {
   "codemirror_mode": {
    "name": "ipython",
    "version": 3
   },
   "file_extension": ".py",
   "mimetype": "text/x-python",
   "name": "python",
   "nbconvert_exporter": "python",
   "pygments_lexer": "ipython3",
   "version": "3.11.6"
  }
 },
 "nbformat": 4,
 "nbformat_minor": 2
}
